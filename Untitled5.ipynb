{
 "cells": [
  {
   "cell_type": "markdown",
   "id": "4b928b8a",
   "metadata": {},
   "source": [
    "# Question-1"
   ]
  },
  {
   "cell_type": "code",
   "execution_count": 79,
   "id": "1a91451c",
   "metadata": {},
   "outputs": [
    {
     "ename": "ModuleNotFoundError",
     "evalue": "No module named 'example'",
     "output_type": "error",
     "traceback": [
      "\u001b[1;31m---------------------------------------------------------------------------\u001b[0m",
      "\u001b[1;31mModuleNotFoundError\u001b[0m                       Traceback (most recent call last)",
      "Input \u001b[1;32mIn [79]\u001b[0m, in \u001b[0;36m<cell line: 1>\u001b[1;34m()\u001b[0m\n\u001b[1;32m----> 1\u001b[0m \u001b[38;5;28;01mimport\u001b[39;00m \u001b[38;5;21;01mexample\u001b[39;00m\n",
      "\u001b[1;31mModuleNotFoundError\u001b[0m: No module named 'example'"
     ]
    }
   ],
   "source": [
    "import example\n",
    "\n",
    "\n"
   ]
  },
  {
   "cell_type": "markdown",
   "id": "c0f8f2e7",
   "metadata": {},
   "source": [
    "# QUESTION-2"
   ]
  },
  {
   "cell_type": "code",
   "execution_count": 69,
   "id": "ba26265d",
   "metadata": {},
   "outputs": [
    {
     "name": "stdout",
     "output_type": "stream",
     "text": [
      "12759\n",
      "File Untitled123.ipynb not found.\n"
     ]
    }
   ],
   "source": [
    "def fileLength(filename):\n",
    "        #reading data\n",
    "        try:\n",
    "                f=open(filename,'r')\n",
    "                \n",
    "                data=f.readlines()\n",
    "        \n",
    "                line=\"\"\n",
    "                for i in data:\n",
    "                        line+=i\n",
    "                result=len(line)\n",
    "                return result\n",
    "        except FileNotFoundError:\n",
    "                return (\"File {} not found.\".format(filename))\n",
    "\n",
    "print(fileLength('Untitled5.ipynb'))\n",
    "print(fileLength('Untitled123.ipynb'))"
   ]
  },
  {
   "cell_type": "markdown",
   "id": "0cffc083",
   "metadata": {},
   "source": [
    "# QUESTION-4"
   ]
  },
  {
   "cell_type": "code",
   "execution_count": 23,
   "id": "e50da0ab",
   "metadata": {},
   "outputs": [
    {
     "name": "stdout",
     "output_type": "stream",
     "text": [
      "1\n"
     ]
    }
   ],
   "source": [
    "\n",
    "def main():\n",
    "    collatz(1)\n",
    "def collatz(x):\n",
    "    if x == 1:\n",
    "        print (x)\n",
    "    elif x % 2 == 0:\n",
    "        print (x)\n",
    "        x = x/2\n",
    "        collatz(x)\n",
    "    else:\n",
    "        print (x)\n",
    "        x = 3*x + 1\n",
    "        collatz(x)\n",
    "\n",
    "\n",
    "\n",
    "if __name__ == \"__main__\":\n",
    "    main()\n"
   ]
  },
  {
   "cell_type": "code",
   "execution_count": 24,
   "id": "08a007e9",
   "metadata": {},
   "outputs": [
    {
     "name": "stdout",
     "output_type": "stream",
     "text": [
      "10\n",
      "5.0\n",
      "16.0\n",
      "8.0\n",
      "4.0\n",
      "2.0\n",
      "1.0\n"
     ]
    }
   ],
   "source": [
    "def main():\n",
    "    collatz(10)\n",
    "def collatz(x):\n",
    "    if x == 1:\n",
    "        print (x)\n",
    "    elif x % 2 == 0:\n",
    "        print (x)\n",
    "        x = x/2\n",
    "        collatz(x)\n",
    "    else:\n",
    "        print (x)\n",
    "        x = 3*x + 1\n",
    "        collatz(x)\n",
    "\n",
    "\n",
    "\n",
    "if __name__ == \"__main__\":\n",
    "    main()"
   ]
  },
  {
   "cell_type": "markdown",
   "id": "00e0ccbb",
   "metadata": {},
   "source": [
    "# QUESTION-3"
   ]
  },
  {
   "cell_type": "code",
   "execution_count": 25,
   "id": "cbbcc222",
   "metadata": {},
   "outputs": [
    {
     "name": "stdout",
     "output_type": "stream",
     "text": [
      "I am a Kanagroo located at coordinates (0,0)\n",
      "['doll', 'firetruck', 'kitten']\n",
      "I am a Kanagroo located at coordinates (3,0)\n"
     ]
    }
   ],
   "source": [
    "class Marsupial:\n",
    "\n",
    "    # the constructor\n",
    "\n",
    "    def __init__(self):\n",
    "\n",
    "        self.pouch=[]\n",
    "\n",
    "    \n",
    "\n",
    "    # the required method\n",
    "\n",
    "    def put_in_pouch(self, item):\n",
    "\n",
    "        # adds item to the pouch\n",
    "\n",
    "        self.pouch.append(item)\n",
    "\n",
    "    def pouch_contents(self):\n",
    "\n",
    "        return self.pouch\n",
    "\n",
    "# the required class\n",
    "\n",
    "class Kangaroo(Marsupial):\n",
    "\n",
    "    # the constructor\n",
    "\n",
    "    def __init__(self, x,y):\n",
    "\n",
    "        # parents constructor\n",
    "\n",
    "        Marsupial.__init__(self)\n",
    "\n",
    "        self.x=x\n",
    "\n",
    "        self.y=y\n",
    "\n",
    "    # the required method\n",
    "\n",
    "    def jump(self, dx, dy):\n",
    "\n",
    "        # incrmetns the respective instace variables\n",
    "\n",
    "        self.x+=dx\n",
    "\n",
    "        self.x+=dy\n",
    "\n",
    "    \n",
    "\n",
    "    def __str__(self):\n",
    "\n",
    "        return \"I am a Kanagroo located at coordinates (\"+str(self.x)+\",\"+str(self.y)+\")\"\n",
    "\n",
    "    \n",
    "\n",
    "k = Kangaroo(0,0)\n",
    "\n",
    "print(k)\n",
    "\n",
    "k.put_in_pouch('doll')\n",
    "\n",
    "k.put_in_pouch('firetruck')\n",
    "\n",
    "k.put_in_pouch('kitten')\n",
    "\n",
    "print(k.pouch_contents())\n",
    "\n",
    "k.jump(1,0)\n",
    "\n",
    "k.jump(1,0)\n",
    "\n",
    "k.jump(1,0)\n",
    "\n",
    "print(k)"
   ]
  },
  {
   "cell_type": "markdown",
   "id": "825b9803",
   "metadata": {},
   "source": [
    "# QUESTION 5"
   ]
  },
  {
   "cell_type": "code",
   "execution_count": 35,
   "id": "484b835e",
   "metadata": {},
   "outputs": [
    {
     "ename": "SyntaxError",
     "evalue": "invalid syntax (33144369.py, line 6)",
     "output_type": "error",
     "traceback": [
      "\u001b[1;36m  Input \u001b[1;32mIn [35]\u001b[1;36m\u001b[0m\n\u001b[1;33m    print (x)\u001b[0m\n\u001b[1;37m    ^\u001b[0m\n\u001b[1;31mSyntaxError\u001b[0m\u001b[1;31m:\u001b[0m invalid syntax\n"
     ]
    }
   ],
   "source": [
    "def binary(n):\n",
    "    if n < 2:\n",
    "        print (n)\n",
    "    else:\n",
    "        x = (bin(int(n)//2)\n",
    "        print (x)"
   ]
  },
  {
   "cell_type": "code",
   "execution_count": 72,
   "id": "a9de059f",
   "metadata": {},
   "outputs": [
    {
     "name": "stdout",
     "output_type": "stream",
     "text": [
      "\n",
      "\n",
      "\n",
      "\n",
      "\n",
      "\n",
      "  \n",
      "\n",
      "  \n",
      "\n",
      "  \n",
      "Change_me\n",
      "\n",
      "  \n",
      "\n",
      "  \n",
      "\n",
      "  \n",
      "\n",
      "\n",
      "\n",
      "\n",
      "\n",
      "\n",
      "  \n",
      "\t\n",
      "h1\n",
      "W3C Mission\n",
      "h1\n",
      "\n",
      "\t\n",
      "h2\n",
      "Principles\n",
      "h2\n",
      "\n",
      " \n",
      "\n",
      "\n",
      "\n",
      "\n",
      "\n"
     ]
    }
   ],
   "source": [
    "from html.parser import HTMLParser\n",
    "\n",
    "# Inherit from Html parser\n",
    "class HeadingParser(HTMLParser):\n",
    "    # Define the headings\n",
    "    headers = ['h1', 'h2', 'h3', 'h4', 'h5', 'h6']\n",
    "\n",
    "    # Handle the functions\n",
    "    def handle_starttag(self, tag, attrs):\n",
    "        if tag in self.headers:\n",
    "            print(tag)\n",
    "\n",
    "    def handle_endtag(self, tag):\n",
    "        if tag in self.headers:\n",
    "            print(tag)\n",
    "\n",
    "    def handle_data(self, data):\n",
    "        print(data)\n",
    "        # TEST HERE\n",
    "parser = HeadingParser()\n",
    "infile = open('w3c.html')\n",
    "content = infile.read()\n",
    "infile.close()\n",
    "hp = HeadingParser()\n",
    "hp.feed(content)\n"
   ]
  },
  {
   "cell_type": "markdown",
   "id": "00160712",
   "metadata": {},
   "source": [
    "# Question-9"
   ]
  },
  {
   "cell_type": "code",
   "execution_count": 67,
   "id": "870f7eec",
   "metadata": {},
   "outputs": [
    {
     "name": "stdout",
     "output_type": "stream",
     "text": [
      "['THE', 'QUICK', 'BROWN', 'FOX', 'JUMPS', 'OVER', 'THE', 'LAZY', 'DOG']\n",
      "['the', 'quick', 'brown', 'fox', 'jumps', 'over', 'the', 'lazy', 'dog']\n",
      "[3, 5, 5, 3, 5, 4, 3, 4, 3]\n",
      "[['THE', 'the', 3], ['QUICK', 'quick', 5], ['BROWN', 'brown', 5], ['FOX', 'fox', 3], ['JUMPS', 'jumps', 5], ['OVER', 'over', 4], ['THE', 'the', 3], ['LAZY', 'lazy', 4], ['DOG', 'dog', 3]]\n",
      "['quick', 'brown', 'jumps', 'over', 'lazy']\n"
     ]
    }
   ],
   "source": [
    "words = ['The', 'quick', 'brown', 'fox', 'jumps', 'over', 'the', 'lazy', 'dog']\n",
    "\n",
    "# Printing all words upper case\n",
    "print([x.upper() for x in words])\n",
    "\n",
    "# Printing all words lower case\n",
    "print([x.lower() for x in words])\n",
    "\n",
    "# Printing length of each word\n",
    "print([len(x) for x in words])\n",
    "\n",
    "# Printing the list containing a list for every word of list words,\n",
    "# where each list contains the word in uppercase and lowercase and the length of the word\n",
    "print([[x.upper(), x.lower(), len(x)] for x in words])\n",
    "\n",
    "# Printing the list of words in list words containing 4 or more characters\n",
    "print([x for x in words if len(x)>=4])    "
   ]
  },
  {
   "cell_type": "markdown",
   "id": "76e09681",
   "metadata": {},
   "source": [
    "# Question-8"
   ]
  },
  {
   "cell_type": "markdown",
   "id": "34a50680",
   "metadata": {},
   "source": [
    "1.SELECT  Temperature FROM table_name;\n",
    "2.SELECT DISTINCT Country FROM table_name;\n",
    "3.SELECT * FROM table_name WHERE country = 'India';\n",
    "4.SELECT * FROM table_name WHERE Season = 'Fall';\n",
    "5.SELECT City Country AND Season FROM table_name WHERE Rainfall BETWEEN 200 and 400;\n",
    "6.SELECT City Country FROM table_name WHERE Temperature > 20 ORDER BY;\n",
    "7.SELECT City SUM(Rainfall) FROM table_name WHERE CITY = Cairo;\n",
    "8.SELECT * FROM table_name SUM(Rainfall) GROUP BY Season;"
   ]
  },
  {
   "cell_type": "code",
   "execution_count": null,
   "id": "842e4792",
   "metadata": {},
   "outputs": [],
   "source": []
  }
 ],
 "metadata": {
  "kernelspec": {
   "display_name": "Python 3 (ipykernel)",
   "language": "python",
   "name": "python3"
  },
  "language_info": {
   "codemirror_mode": {
    "name": "ipython",
    "version": 3
   },
   "file_extension": ".py",
   "mimetype": "text/x-python",
   "name": "python",
   "nbconvert_exporter": "python",
   "pygments_lexer": "ipython3",
   "version": "3.9.12"
  }
 },
 "nbformat": 4,
 "nbformat_minor": 5
}
